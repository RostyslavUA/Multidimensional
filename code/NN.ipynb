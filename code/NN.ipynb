{
 "cells": [
  {
   "cell_type": "code",
   "execution_count": 43,
   "id": "56100e0d",
   "metadata": {},
   "outputs": [],
   "source": [
    "import os\n",
    "import os.path as osp\n",
    "import json\n",
    "\n",
    "import torch\n",
    "import torch.nn as nn\n",
    "from torch.utils.data import Dataset, random_split, DataLoader\n",
    "import torch.optim as optim\n",
    "import numpy as np\n",
    "\n",
    "from utils import process_coord, process_labels, process_samples, mask_pic\n",
    "\n",
    "import matplotlib.pyplot as plt"
   ]
  },
  {
   "cell_type": "code",
   "execution_count": 44,
   "id": "1bf3375a",
   "metadata": {},
   "outputs": [],
   "source": [
    "path = '../public_data'"
   ]
  },
  {
   "cell_type": "markdown",
   "id": "0d45a17f",
   "metadata": {},
   "source": [
    "### Labels "
   ]
  },
  {
   "cell_type": "code",
   "execution_count": 8,
   "id": "fb33b4cc",
   "metadata": {},
   "outputs": [],
   "source": [
    "label_names = [file for file in os.listdir(path) if file.endswith('.json')]\n",
    "label_names.sort()"
   ]
  },
  {
   "cell_type": "code",
   "execution_count": 9,
   "id": "d75528f1",
   "metadata": {},
   "outputs": [],
   "source": [
    "_coord_missing, _coord_present, _pills_missing, _pills_present = process_labels(path, label_names)"
   ]
  },
  {
   "cell_type": "code",
   "execution_count": 10,
   "id": "dc2d6f48",
   "metadata": {},
   "outputs": [],
   "source": [
    "coords = torch.from_numpy(process_coord(_coord_missing, _coord_present))"
   ]
  },
  {
   "cell_type": "code",
   "execution_count": 11,
   "id": "d05ec22b",
   "metadata": {},
   "outputs": [],
   "source": [
    "_masks = []\n",
    "for coord in coords:\n",
    "    _masks.append(mask_pic(coord))"
   ]
  },
  {
   "cell_type": "code",
   "execution_count": 12,
   "id": "3c88d46a",
   "metadata": {},
   "outputs": [],
   "source": [
    "masks = torch.cat(_masks)  # Quite slow"
   ]
  },
  {
   "cell_type": "markdown",
   "id": "0f918026",
   "metadata": {},
   "source": [
    "### Samples "
   ]
  },
  {
   "cell_type": "code",
   "execution_count": 13,
   "id": "526c4b70",
   "metadata": {},
   "outputs": [],
   "source": [
    "sample_names = [file for file in os.listdir(path) if file.endswith('.tiff')]\n",
    "sample_names.sort()"
   ]
  },
  {
   "cell_type": "code",
   "execution_count": 15,
   "id": "136e72b1",
   "metadata": {},
   "outputs": [],
   "source": [
    "_samples = process_samples(path, sample_names)"
   ]
  },
  {
   "cell_type": "code",
   "execution_count": 16,
   "id": "a6ec8ba3",
   "metadata": {},
   "outputs": [],
   "source": [
    "samples = torch.from_numpy(np.array(_samples))  # Directly casting a list of ndarrays to tensor is slower (at least for Rostyslav)"
   ]
  },
  {
   "cell_type": "markdown",
   "id": "5aeacb72",
   "metadata": {},
   "source": [
    "### Dataset, Dataloader "
   ]
  },
  {
   "cell_type": "code",
   "execution_count": 17,
   "id": "0ee0080d",
   "metadata": {},
   "outputs": [],
   "source": [
    "class BlisterPacks(Dataset):\n",
    "    def __init__(self, features, labels):\n",
    "        self.features = features\n",
    "        self.labels = labels\n",
    "    def __len__(self):\n",
    "        return self.features.shape[0]\n",
    "    def __getitem__(self, idx):\n",
    "        return (self.features[idx], self.labels[idx])  # unsqueeze for the number of channels"
   ]
  },
  {
   "cell_type": "code",
   "execution_count": 18,
   "id": "52237681",
   "metadata": {},
   "outputs": [],
   "source": [
    "blister_packs = BlisterPacks(samples, masks)\n",
    "train_data, test_data = random_split(blister_packs, (round(0.8*len(blister_packs)), round(0.2*len(blister_packs))))\n",
    "train_loader, test_loader = DataLoader(train_data), DataLoader(test_data)"
   ]
  },
  {
   "cell_type": "markdown",
   "id": "8d859db6",
   "metadata": {},
   "source": [
    "### Unet"
   ]
  },
  {
   "cell_type": "code",
   "execution_count": 19,
   "id": "f12a00fd",
   "metadata": {},
   "outputs": [],
   "source": [
    "class Unet(nn.Module):\n",
    "    def __init__(self):\n",
    "        super(Unet, self).__init__()\n",
    "        kernel_size = 3\n",
    "        self.conv1 = nn.Conv2d(1, 64, kernel_size)\n",
    "        self.conv2 = nn.Conv2d(64, 64, kernel_size)\n",
    "        self.maxpool1 = nn.MaxPool2d(2, return_indices=True)\n",
    "\n",
    "        self.conv3 = nn.Conv2d(64,128, kernel_size)\n",
    "        self.conv4 = nn.Conv2d(128, 128, kernel_size)\n",
    "        self.maxpool2 = nn.MaxPool2d(2, return_indices=True)\n",
    "\n",
    "        self.conv5 = nn.Conv2d(128,256, kernel_size)\n",
    "        self.conv6 = nn.Conv2d(256, 256, kernel_size)\n",
    "        self.maxpool3 = nn.MaxPool2d(2, return_indices=True)\n",
    "\n",
    "        self.conv7 = nn.Conv2d(256,512, kernel_size)\n",
    "        self.conv8 = nn.Conv2d(512, 512, kernel_size)\n",
    "        self.maxpool4 = nn.MaxPool2d(2, return_indices=True)\n",
    "\n",
    "        self.conv9 = nn.Conv2d(512, 1024, kernel_size)\n",
    "        self.convt1 = nn.ConvTranspose2d(1024, 512, kernel_size)\n",
    "        self.maxunpool1 = nn.MaxUnpool2d(2)\n",
    "\n",
    "        # Paper suggests using conv in tandem with convTranspose. I use only convsTranspose, because then the dims match.\n",
    "        # May be wrong\n",
    "        self.convt2 = nn.ConvTranspose2d(1024, 512, kernel_size)\n",
    "        self.convt3 = nn.ConvTranspose2d(512, 256, kernel_size)\n",
    "        self.maxunpool2 = nn.MaxUnpool2d(2)\n",
    "\n",
    "        self.convt4 = nn.ConvTranspose2d(512, 256, kernel_size)\n",
    "        self.convt5 = nn.ConvTranspose2d(256, 128, kernel_size)\n",
    "        self.maxunpool3 = nn.MaxUnpool2d(2)\n",
    "\n",
    "        self.convt6 = nn.ConvTranspose2d(256, 128, kernel_size)\n",
    "        self.convt7 = nn.ConvTranspose2d(128, 64, kernel_size)\n",
    "        self.maxunpool4 = nn.MaxUnpool2d(2)\n",
    "\n",
    "        self.convt8 = nn.ConvTranspose2d(128, 64, kernel_size)\n",
    "        self.convt9 = nn.ConvTranspose2d(64, 64, kernel_size)\n",
    "        \n",
    "        self.conv10 = nn.Conv2d(64, 1, kernel_size = 1)\n",
    "        self.relu = nn.ReLU()\n",
    "        \n",
    "        # Weight initialization\n",
    "        nn.init.normal_(self.conv1.weight, std=(2/(1*kernel_size*kernel_size))**(1/2))\n",
    "        nn.init.normal_(self.conv2.weight, std=(2/(64*kernel_size*kernel_size))**(1/2))\n",
    "        \n",
    "        nn.init.normal_(self.conv3.weight, std=(2/(64*kernel_size*kernel_size))**(1/2))\n",
    "        nn.init.normal_(self.conv4.weight, std=(2/(128*kernel_size*kernel_size))**(1/2))\n",
    "        \n",
    "        nn.init.normal_(self.conv5.weight, std=(2/(128*kernel_size*kernel_size))**(1/2))\n",
    "        nn.init.normal_(self.conv6.weight, std=(2/(256*kernel_size*kernel_size))**(1/2))\n",
    "        \n",
    "        nn.init.normal_(self.conv7.weight, std=(2/(256*kernel_size*kernel_size))**(1/2))\n",
    "        nn.init.normal_(self.conv8.weight, std=(2/(512*kernel_size*kernel_size))**(1/2))\n",
    "        \n",
    "        nn.init.normal_(self.conv9.weight, std=(2/(512*kernel_size*kernel_size))**(1/2))\n",
    "        nn.init.normal_(self.convt1.weight, std=(2/(1024*kernel_size*kernel_size))**(1/2))\n",
    "        \n",
    "        nn.init.normal_(self.convt2.weight, std=(2/(1024*kernel_size*kernel_size))**(1/2))\n",
    "        nn.init.normal_(self.convt3.weight, std=(2/(512*kernel_size*kernel_size))**(1/2))\n",
    "        \n",
    "        nn.init.normal_(self.convt4.weight, std=(2/(512*kernel_size*kernel_size))**(1/2))\n",
    "        nn.init.normal_(self.convt5.weight, std=(2/(256*kernel_size*kernel_size))**(1/2))\n",
    "        \n",
    "        nn.init.normal_(self.convt6.weight, std=(2/(256*kernel_size*kernel_size))**(1/2))\n",
    "        nn.init.normal_(self.convt7.weight, std=(2/(128*kernel_size*kernel_size))**(1/2))\n",
    "\n",
    "        nn.init.normal_(self.convt8.weight, std=(2/(128*kernel_size*kernel_size))**(1/2))\n",
    "        nn.init.normal_(self.convt9.weight, std=(2/(64*kernel_size*kernel_size))**(1/2))\n",
    "        \n",
    "        nn.init.normal_(self.conv10.weight, std=(2/(64*1*1))**(1/2))\n",
    "        \n",
    "    def forward(self, x):\n",
    "        # Contracting path\n",
    "        x1 = self.relu(self.conv1(x))  # (64, 255, 255)\n",
    "        x2 = self.relu(self.conv2(x1))  # (64, 253, 253)\n",
    "        x3, idcs1 = self.maxpool1(x2)  # (64, 126, 126)\n",
    "\n",
    "        x4 = self.relu(self.conv3(x3))  # (128, 124, 124)\n",
    "        x5 = self.relu(self.conv4(x4))# (128, 122, 122)\n",
    "        x6, idcs2 = self.maxpool2(x5)  # (128, 61, 61)\n",
    "\n",
    "        x7 = self.relu(self.conv5(x6))# (256, 59, 59)\n",
    "        x8 = self.relu(self.conv6(x7))# (256, 57, 57)\n",
    "        x9, idcs3 = self.maxpool3(x8)  # (256, 28, 28)\n",
    "\n",
    "        x10 = self.relu(self.conv7(x9)) # (512, 26, 26)\n",
    "        x11 = self.relu(self.conv8(x10)) # (512, 24, 24)\n",
    "        x12, idcs4 = self.maxpool4(x11)  # (512, 12, 12)\n",
    "\n",
    "        x13 = self.relu(self.conv9(x12)) # (1024, 10, 10)\n",
    "        x14 = self.relu(self.convt1(x13))  # Up-conv  (512, 12, 12)\n",
    "        # Expansive path\n",
    "        x15 = self.maxunpool1(x14, indices=idcs4)  # Upsample feature map  (512, 24, 24)\n",
    "        x15 = torch.cat((x11, x15), dim=0)  # Concatenate. Note, resulting variable has the same name (1024, 24, 24)\n",
    "\n",
    "        x16 = self.relu(self.convt2(x15))  # (512, 26, 26)\n",
    "        x17 = self.convt3(x16)  # (512, 28, 28)\n",
    "        x18 = self.maxunpool2(x17, indices=idcs3, output_size=x8.shape[-2:])  # (512, 57, 57)\n",
    "        x18 = torch.cat((x8, x18), dim=0)  # (512, 57, 57)\n",
    "\n",
    "        x19 = self.relu(self.convt4(x18))  # (256, 59, 59)\n",
    "        x20 = self.relu(self.convt5(x19))  # (128, 61, 61)\n",
    "        x21 = self.maxunpool3(x20, indices=idcs2)  # (128, 122, 122)\n",
    "        x21 = torch.cat((x5, x21), dim=0)  # (256, 122, 122)\n",
    "\n",
    "        x22 = self.convt6(x21)  # (128, 124, 124)\n",
    "        x23 = self.convt7(x22)  # (64, 126, 126)\n",
    "        x24 = self.maxunpool4(x23, indices=idcs1, output_size=x2.shape[-2:])  # (64, 253, 253)\n",
    "        x24 = torch.cat((x2, x24), dim=0)  # (128, 253, 253)\n",
    "\n",
    "        x25 = self.relu(self.convt8(x24))  # (64, 255, 255)\n",
    "        x26 = self.relu(self.convt9(x25))  # (64, 257, 257)\n",
    "        \n",
    "        out = self.conv10(x26)  # (1, 257, 257)\n",
    "        \n",
    "        return out\n",
    "\n",
    "convmodel = Unet()"
   ]
  },
  {
   "cell_type": "code",
   "execution_count": 20,
   "id": "27666845",
   "metadata": {},
   "outputs": [],
   "source": [
    "criterion = nn.CrossEntropyLoss()\n",
    "optimizer = optim.Adam(convmodel.parameters(), lr=0.01)"
   ]
  },
  {
   "cell_type": "code",
   "execution_count": 21,
   "id": "3ca45882",
   "metadata": {},
   "outputs": [],
   "source": [
    "def training(data_loader):\n",
    "    for i, data in enumerate(data_loader):\n",
    "        feats, labs = data\n",
    "        out = convmodel(feats)\n",
    "        optimizer.zero_grad()\n",
    "        loss = criterion(out, labs)\n",
    "        print(f'[{i}/{len(data_loader)}] Loss: {loss:.5f} out.sum(): {out.sum():.3f} out.unique().size(): {out.unique().size()}')\n",
    "        loss.backward()\n",
    "        optimizer.step()\n",
    "    return loss, out"
   ]
  },
  {
   "cell_type": "code",
   "execution_count": 22,
   "id": "965e692d",
   "metadata": {
    "scrolled": false
   },
   "outputs": [
    {
     "name": "stderr",
     "output_type": "stream",
     "text": [
      "/home/ross/comprns/lib/python3.8/site-packages/torch/nn/functional.py:749: UserWarning: Note that order of the arguments: ceil_mode and return_indices will changeto match the args list in nn.MaxPool2d in a future release.\n",
      "  warnings.warn(\"Note that order of the arguments: ceil_mode and return_indices will change\"\n"
     ]
    },
    {
     "ename": "KeyboardInterrupt",
     "evalue": "",
     "output_type": "error",
     "traceback": [
      "\u001b[0;31m---------------------------------------------------------------------------\u001b[0m",
      "\u001b[0;31mKeyboardInterrupt\u001b[0m                         Traceback (most recent call last)",
      "Input \u001b[0;32mIn [22]\u001b[0m, in \u001b[0;36m<cell line: 1>\u001b[0;34m()\u001b[0m\n\u001b[1;32m      1\u001b[0m \u001b[38;5;28;01mfor\u001b[39;00m epoch \u001b[38;5;129;01min\u001b[39;00m \u001b[38;5;28mrange\u001b[39m(\u001b[38;5;241m1\u001b[39m):\n\u001b[0;32m----> 2\u001b[0m     \u001b[43mtraining\u001b[49m\u001b[43m(\u001b[49m\u001b[43mtrain_loader\u001b[49m\u001b[43m)\u001b[49m\n\u001b[1;32m      3\u001b[0m     \u001b[38;5;28;01mfor\u001b[39;00m data \u001b[38;5;129;01min\u001b[39;00m train_loader:\n\u001b[1;32m      4\u001b[0m         feats, labs \u001b[38;5;241m=\u001b[39m data\n",
      "Input \u001b[0;32mIn [21]\u001b[0m, in \u001b[0;36mtraining\u001b[0;34m(data_loader)\u001b[0m\n\u001b[1;32m      2\u001b[0m \u001b[38;5;28;01mfor\u001b[39;00m i, data \u001b[38;5;129;01min\u001b[39;00m \u001b[38;5;28menumerate\u001b[39m(data_loader):\n\u001b[1;32m      3\u001b[0m     feats, labs \u001b[38;5;241m=\u001b[39m data\n\u001b[0;32m----> 4\u001b[0m     out \u001b[38;5;241m=\u001b[39m \u001b[43mconvmodel\u001b[49m\u001b[43m(\u001b[49m\u001b[43mfeats\u001b[49m\u001b[43m)\u001b[49m\n\u001b[1;32m      5\u001b[0m     optimizer\u001b[38;5;241m.\u001b[39mzero_grad()\n\u001b[1;32m      6\u001b[0m     loss \u001b[38;5;241m=\u001b[39m criterion(out, labs)\n",
      "File \u001b[0;32m~/comprns/lib/python3.8/site-packages/torch/nn/modules/module.py:1110\u001b[0m, in \u001b[0;36mModule._call_impl\u001b[0;34m(self, *input, **kwargs)\u001b[0m\n\u001b[1;32m   1106\u001b[0m \u001b[38;5;66;03m# If we don't have any hooks, we want to skip the rest of the logic in\u001b[39;00m\n\u001b[1;32m   1107\u001b[0m \u001b[38;5;66;03m# this function, and just call forward.\u001b[39;00m\n\u001b[1;32m   1108\u001b[0m \u001b[38;5;28;01mif\u001b[39;00m \u001b[38;5;129;01mnot\u001b[39;00m (\u001b[38;5;28mself\u001b[39m\u001b[38;5;241m.\u001b[39m_backward_hooks \u001b[38;5;129;01mor\u001b[39;00m \u001b[38;5;28mself\u001b[39m\u001b[38;5;241m.\u001b[39m_forward_hooks \u001b[38;5;129;01mor\u001b[39;00m \u001b[38;5;28mself\u001b[39m\u001b[38;5;241m.\u001b[39m_forward_pre_hooks \u001b[38;5;129;01mor\u001b[39;00m _global_backward_hooks\n\u001b[1;32m   1109\u001b[0m         \u001b[38;5;129;01mor\u001b[39;00m _global_forward_hooks \u001b[38;5;129;01mor\u001b[39;00m _global_forward_pre_hooks):\n\u001b[0;32m-> 1110\u001b[0m     \u001b[38;5;28;01mreturn\u001b[39;00m \u001b[43mforward_call\u001b[49m\u001b[43m(\u001b[49m\u001b[38;5;241;43m*\u001b[39;49m\u001b[38;5;28;43minput\u001b[39;49m\u001b[43m,\u001b[49m\u001b[43m \u001b[49m\u001b[38;5;241;43m*\u001b[39;49m\u001b[38;5;241;43m*\u001b[39;49m\u001b[43mkwargs\u001b[49m\u001b[43m)\u001b[49m\n\u001b[1;32m   1111\u001b[0m \u001b[38;5;66;03m# Do not call functions when jit is used\u001b[39;00m\n\u001b[1;32m   1112\u001b[0m full_backward_hooks, non_full_backward_hooks \u001b[38;5;241m=\u001b[39m [], []\n",
      "Input \u001b[0;32mIn [19]\u001b[0m, in \u001b[0;36mUnet.forward\u001b[0;34m(self, x)\u001b[0m\n\u001b[1;32m    111\u001b[0m x24 \u001b[38;5;241m=\u001b[39m \u001b[38;5;28mself\u001b[39m\u001b[38;5;241m.\u001b[39mmaxunpool4(x23, indices\u001b[38;5;241m=\u001b[39midcs1, output_size\u001b[38;5;241m=\u001b[39mx2\u001b[38;5;241m.\u001b[39mshape[\u001b[38;5;241m-\u001b[39m\u001b[38;5;241m2\u001b[39m:])  \u001b[38;5;66;03m# (64, 253, 253)\u001b[39;00m\n\u001b[1;32m    112\u001b[0m x24 \u001b[38;5;241m=\u001b[39m torch\u001b[38;5;241m.\u001b[39mcat((x2, x24), dim\u001b[38;5;241m=\u001b[39m\u001b[38;5;241m0\u001b[39m)  \u001b[38;5;66;03m# (128, 253, 253)\u001b[39;00m\n\u001b[0;32m--> 114\u001b[0m x25 \u001b[38;5;241m=\u001b[39m \u001b[38;5;28mself\u001b[39m\u001b[38;5;241m.\u001b[39mrelu(\u001b[38;5;28;43mself\u001b[39;49m\u001b[38;5;241;43m.\u001b[39;49m\u001b[43mconvt8\u001b[49m\u001b[43m(\u001b[49m\u001b[43mx24\u001b[49m\u001b[43m)\u001b[49m)  \u001b[38;5;66;03m# (64, 255, 255)\u001b[39;00m\n\u001b[1;32m    115\u001b[0m x26 \u001b[38;5;241m=\u001b[39m \u001b[38;5;28mself\u001b[39m\u001b[38;5;241m.\u001b[39mrelu(\u001b[38;5;28mself\u001b[39m\u001b[38;5;241m.\u001b[39mconvt9(x25))  \u001b[38;5;66;03m# (64, 257, 257)\u001b[39;00m\n\u001b[1;32m    117\u001b[0m out \u001b[38;5;241m=\u001b[39m \u001b[38;5;28mself\u001b[39m\u001b[38;5;241m.\u001b[39mconv10(x26)  \u001b[38;5;66;03m# (1, 257, 257)\u001b[39;00m\n",
      "File \u001b[0;32m~/comprns/lib/python3.8/site-packages/torch/nn/modules/module.py:1110\u001b[0m, in \u001b[0;36mModule._call_impl\u001b[0;34m(self, *input, **kwargs)\u001b[0m\n\u001b[1;32m   1106\u001b[0m \u001b[38;5;66;03m# If we don't have any hooks, we want to skip the rest of the logic in\u001b[39;00m\n\u001b[1;32m   1107\u001b[0m \u001b[38;5;66;03m# this function, and just call forward.\u001b[39;00m\n\u001b[1;32m   1108\u001b[0m \u001b[38;5;28;01mif\u001b[39;00m \u001b[38;5;129;01mnot\u001b[39;00m (\u001b[38;5;28mself\u001b[39m\u001b[38;5;241m.\u001b[39m_backward_hooks \u001b[38;5;129;01mor\u001b[39;00m \u001b[38;5;28mself\u001b[39m\u001b[38;5;241m.\u001b[39m_forward_hooks \u001b[38;5;129;01mor\u001b[39;00m \u001b[38;5;28mself\u001b[39m\u001b[38;5;241m.\u001b[39m_forward_pre_hooks \u001b[38;5;129;01mor\u001b[39;00m _global_backward_hooks\n\u001b[1;32m   1109\u001b[0m         \u001b[38;5;129;01mor\u001b[39;00m _global_forward_hooks \u001b[38;5;129;01mor\u001b[39;00m _global_forward_pre_hooks):\n\u001b[0;32m-> 1110\u001b[0m     \u001b[38;5;28;01mreturn\u001b[39;00m \u001b[43mforward_call\u001b[49m\u001b[43m(\u001b[49m\u001b[38;5;241;43m*\u001b[39;49m\u001b[38;5;28;43minput\u001b[39;49m\u001b[43m,\u001b[49m\u001b[43m \u001b[49m\u001b[38;5;241;43m*\u001b[39;49m\u001b[38;5;241;43m*\u001b[39;49m\u001b[43mkwargs\u001b[49m\u001b[43m)\u001b[49m\n\u001b[1;32m   1111\u001b[0m \u001b[38;5;66;03m# Do not call functions when jit is used\u001b[39;00m\n\u001b[1;32m   1112\u001b[0m full_backward_hooks, non_full_backward_hooks \u001b[38;5;241m=\u001b[39m [], []\n",
      "File \u001b[0;32m~/comprns/lib/python3.8/site-packages/torch/nn/modules/conv.py:925\u001b[0m, in \u001b[0;36mConvTranspose2d.forward\u001b[0;34m(self, input, output_size)\u001b[0m\n\u001b[1;32m    920\u001b[0m \u001b[38;5;66;03m# One cannot replace List by Tuple or Sequence in \"_output_padding\" because\u001b[39;00m\n\u001b[1;32m    921\u001b[0m \u001b[38;5;66;03m# TorchScript does not support `Sequence[T]` or `Tuple[T, ...]`.\u001b[39;00m\n\u001b[1;32m    922\u001b[0m output_padding \u001b[38;5;241m=\u001b[39m \u001b[38;5;28mself\u001b[39m\u001b[38;5;241m.\u001b[39m_output_padding(\n\u001b[1;32m    923\u001b[0m     \u001b[38;5;28minput\u001b[39m, output_size, \u001b[38;5;28mself\u001b[39m\u001b[38;5;241m.\u001b[39mstride, \u001b[38;5;28mself\u001b[39m\u001b[38;5;241m.\u001b[39mpadding, \u001b[38;5;28mself\u001b[39m\u001b[38;5;241m.\u001b[39mkernel_size, \u001b[38;5;28mself\u001b[39m\u001b[38;5;241m.\u001b[39mdilation)  \u001b[38;5;66;03m# type: ignore[arg-type]\u001b[39;00m\n\u001b[0;32m--> 925\u001b[0m \u001b[38;5;28;01mreturn\u001b[39;00m \u001b[43mF\u001b[49m\u001b[38;5;241;43m.\u001b[39;49m\u001b[43mconv_transpose2d\u001b[49m\u001b[43m(\u001b[49m\n\u001b[1;32m    926\u001b[0m \u001b[43m    \u001b[49m\u001b[38;5;28;43minput\u001b[39;49m\u001b[43m,\u001b[49m\u001b[43m \u001b[49m\u001b[38;5;28;43mself\u001b[39;49m\u001b[38;5;241;43m.\u001b[39;49m\u001b[43mweight\u001b[49m\u001b[43m,\u001b[49m\u001b[43m \u001b[49m\u001b[38;5;28;43mself\u001b[39;49m\u001b[38;5;241;43m.\u001b[39;49m\u001b[43mbias\u001b[49m\u001b[43m,\u001b[49m\u001b[43m \u001b[49m\u001b[38;5;28;43mself\u001b[39;49m\u001b[38;5;241;43m.\u001b[39;49m\u001b[43mstride\u001b[49m\u001b[43m,\u001b[49m\u001b[43m \u001b[49m\u001b[38;5;28;43mself\u001b[39;49m\u001b[38;5;241;43m.\u001b[39;49m\u001b[43mpadding\u001b[49m\u001b[43m,\u001b[49m\n\u001b[1;32m    927\u001b[0m \u001b[43m    \u001b[49m\u001b[43moutput_padding\u001b[49m\u001b[43m,\u001b[49m\u001b[43m \u001b[49m\u001b[38;5;28;43mself\u001b[39;49m\u001b[38;5;241;43m.\u001b[39;49m\u001b[43mgroups\u001b[49m\u001b[43m,\u001b[49m\u001b[43m \u001b[49m\u001b[38;5;28;43mself\u001b[39;49m\u001b[38;5;241;43m.\u001b[39;49m\u001b[43mdilation\u001b[49m\u001b[43m)\u001b[49m\n",
      "\u001b[0;31mKeyboardInterrupt\u001b[0m: "
     ]
    }
   ],
   "source": [
    "for epoch in range(1):\n",
    "    training(train_loader)\n",
    "    for data in train_loader:\n",
    "        feats, labs = data\n",
    "        out = convmodel(feats)\n",
    "        optimizer.zero_grad()\n",
    "        loss = criterion(out, labs)\n",
    "        print(f'[{i}/{len(data_loader)}] Loss: {loss:.5f} out.sum(): {out.sum():.3f} out.unique().size(): {out.unique().size()}')\n",
    "        loss.backward()"
   ]
  },
  {
   "cell_type": "markdown",
   "id": "115af778",
   "metadata": {},
   "source": [
    "### Visualization "
   ]
  },
  {
   "cell_type": "code",
   "execution_count": 37,
   "id": "88d210da",
   "metadata": {},
   "outputs": [
    {
     "data": {
      "text/plain": [
       "<matplotlib.image.AxesImage at 0x7fd012b1ccd0>"
      ]
     },
     "execution_count": 37,
     "metadata": {},
     "output_type": "execute_result"
    },
    {
     "data": {
      "image/png": "[encoded data removed]",
      "text/plain": [
       "<Figure size 432x288 with 1 Axes>"
      ]
     },
     "metadata": {
      "needs_background": "light"
     },
     "output_type": "display_data"
    }
   ],
   "source": [
    "plt.imshow(samples[2], origin='lower')"
   ]
  },
  {
   "cell_type": "code",
   "execution_count": 41,
   "id": "992a2477",
   "metadata": {},
   "outputs": [
    {
     "data": {
      "text/plain": [
       "<matplotlib.image.AxesImage at 0x7fd0129be040>"
      ]
     },
     "execution_count": 41,
     "metadata": {},
     "output_type": "execute_result"
    },
    {
     "data": {
      "image/png": "[encoded data removed]",
      "text/plain": [
       "<Figure size 432x288 with 1 Axes>"
      ]
     },
     "metadata": {
      "needs_background": "light"
     },
     "output_type": "display_data"
    }
   ],
   "source": [
    "plt.imshow(masks[2], origin='lower')"
   ]
  }
 ],
 "metadata": {
  "kernelspec": {
   "display_name": "Python 3 (ipykernel)",
   "language": "python",
   "name": "python3"
  },
  "language_info": {
   "codemirror_mode": {
    "name": "ipython",
    "version": 3
   },
   "file_extension": ".py",
   "mimetype": "text/x-python",
   "name": "python",
   "nbconvert_exporter": "python",
   "pygments_lexer": "ipython3",
   "version": "3.8.10"
  }
 },
 "nbformat": 4,
 "nbformat_minor": 5
}
