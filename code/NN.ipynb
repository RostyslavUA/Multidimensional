{
 "cells": [
  {
   "cell_type": "code",
   "execution_count": 2,
   "id": "56100e0d",
   "metadata": {},
   "outputs": [],
   "source": [
    "import os\n",
    "import os.path as osp\n",
    "import json\n",
    "\n",
    "import torch\n",
    "import torch.nn as nn\n",
    "from torch.utils.data import Dataset, random_split, DataLoader\n",
    "import torch.optim as optim\n",
    "import numpy as np\n",
    "\n",
    "from utils import process_coord, process_labels, process_samples, mask_pic\n",
    "\n",
    "import matplotlib.pyplot as plt"
   ]
  },
  {
   "cell_type": "code",
   "execution_count": 3,
   "id": "1bf3375a",
   "metadata": {},
   "outputs": [],
   "source": [
    "path = './public_data'"
   ]
  },
  {
   "cell_type": "markdown",
   "id": "0d45a17f",
   "metadata": {},
   "source": [
    "### Labels "
   ]
  },
  {
   "cell_type": "code",
   "execution_count": 4,
   "id": "fb33b4cc",
   "metadata": {},
   "outputs": [],
   "source": [
    "label_names = [file for file in os.listdir(path) if file.endswith('.json')]\n",
    "label_names.sort()"
   ]
  },
  {
   "cell_type": "code",
   "execution_count": 5,
   "id": "d75528f1",
   "metadata": {},
   "outputs": [],
   "source": [
    "_coord_missing, _coord_present, _pills_missing, _pills_present = process_labels(path, label_names)"
   ]
  },
  {
   "cell_type": "code",
   "execution_count": 6,
   "id": "dc2d6f48",
   "metadata": {},
   "outputs": [],
   "source": [
    "coords = torch.from_numpy(process_coord(_coord_missing, _coord_present))"
   ]
  },
  {
   "cell_type": "code",
   "execution_count": 7,
   "id": "d05ec22b",
   "metadata": {},
   "outputs": [],
   "source": [
    "_masks = []\n",
    "for coord in coords:\n",
    "    _masks.append(mask_pic(coord))"
   ]
  },
  {
   "cell_type": "code",
   "execution_count": 8,
   "id": "3c88d46a",
   "metadata": {},
   "outputs": [],
   "source": [
    "masks = torch.cat(_masks)  # Quite slow"
   ]
  },
  {
   "cell_type": "markdown",
   "id": "0f918026",
   "metadata": {},
   "source": [
    "### Samples "
   ]
  },
  {
   "cell_type": "code",
   "execution_count": 9,
   "id": "526c4b70",
   "metadata": {},
   "outputs": [],
   "source": [
    "sample_names = [file for file in os.listdir(path) if file.endswith('.tiff')]\n",
    "sample_names.sort()"
   ]
  },
  {
   "cell_type": "code",
   "execution_count": 10,
   "id": "136e72b1",
   "metadata": {},
   "outputs": [],
   "source": [
    "_samples = process_samples(path, sample_names)"
   ]
  },
  {
   "cell_type": "code",
   "execution_count": 11,
   "id": "a6ec8ba3",
   "metadata": {},
   "outputs": [],
   "source": [
    "samples = torch.from_numpy(np.array(_samples))  # Directly casting a list of ndarrays to tensor is slower (at least for Rostyslav)"
   ]
  },
  {
   "cell_type": "markdown",
   "id": "5aeacb72",
   "metadata": {},
   "source": [
    "### Dataset, Dataloader "
   ]
  },
  {
   "cell_type": "code",
   "execution_count": 12,
   "id": "0ee0080d",
   "metadata": {},
   "outputs": [],
   "source": [
    "class BlisterPacks(Dataset):\n",
    "    def __init__(self, features, labels):\n",
    "        self.features = features\n",
    "        self.labels = labels\n",
    "    def __len__(self):\n",
    "        return self.features.shape[0]\n",
    "    def __getitem__(self, idx):\n",
    "        return (self.features[idx], self.labels[idx])  # unsqueeze for the number of channels"
   ]
  },
  {
   "cell_type": "code",
   "execution_count": 13,
   "id": "52237681",
   "metadata": {},
   "outputs": [],
   "source": [
    "blister_packs = BlisterPacks(samples, masks)\n",
    "train_data, test_data = random_split(blister_packs, (round(0.8*len(blister_packs)), round(0.2*len(blister_packs))))\n",
    "train_loader, test_loader = DataLoader(train_data), DataLoader(test_data)"
   ]
  },
  {
   "cell_type": "markdown",
   "id": "8d859db6",
   "metadata": {},
   "source": [
    "### Unet"
   ]
  },
  {
   "cell_type": "code",
   "execution_count": 18,
   "id": "f12a00fd",
   "metadata": {},
   "outputs": [],
   "source": [
    "class Unet(nn.Module):\n",
    "    def __init__(self):\n",
    "        super(Unet, self).__init__()\n",
    "       \n",
    "        self.conv1 = nn.Conv2d(1, 64, 3)\n",
    "        self.conv2 = nn.Conv2d(64, 64, 3)\n",
    "        self.maxpool1 = nn.MaxPool2d(2, return_indices=True)\n",
    "\n",
    "        self.conv3 = nn.Conv2d(64,128, 3)\n",
    "        self.conv4 = nn.Conv2d(128, 128, 3)\n",
    "        self.maxpool2 = nn.MaxPool2d(2, return_indices=True)\n",
    "\n",
    "        self.conv5 = nn.Conv2d(128,256, 3)\n",
    "        self.conv6 = nn.Conv2d(256, 256, 3)\n",
    "        self.maxpool3 = nn.MaxPool2d(2, return_indices=True)\n",
    "\n",
    "        self.conv7 = nn.Conv2d(256,512, 3)\n",
    "        self.conv8 = nn.Conv2d(512, 512, 3)\n",
    "        self.maxpool4 = nn.MaxPool2d(2, return_indices=True)\n",
    "\n",
    "        self.conv9 = nn.Conv2d(512, 1024, 3)\n",
    "        self.convt1 = nn.ConvTranspose2d(1024, 512, 3)\n",
    "        self.maxunpool1 = nn.MaxUnpool2d(2)\n",
    "\n",
    "        # Paper suggests using conv. I use only convsTranspose, because then the dims match. May be wrong\n",
    "        self.convt2 = nn.ConvTranspose2d(1024, 512, 3)\n",
    "        self.convt3 = nn.ConvTranspose2d(512, 256, 3)\n",
    "        self.maxunpool2 = nn.MaxUnpool2d(2)\n",
    "\n",
    "        self.convt4 = nn.ConvTranspose2d(512, 256, 3)\n",
    "        self.convt5 = nn.ConvTranspose2d(256, 128, 3)\n",
    "        self.maxunpool3 = nn.MaxUnpool2d(2)\n",
    "\n",
    "        self.convt6 = nn.ConvTranspose2d(256, 128, 3)\n",
    "        self.convt7 = nn.ConvTranspose2d(128, 64, 3)\n",
    "        self.maxunpool4 = nn.MaxUnpool2d(2)\n",
    "\n",
    "        self.convt8 = nn.ConvTranspose2d(128, 64, 3)\n",
    "        self.convt9 = nn.ConvTranspose2d(64, 1, 3)\n",
    "        self.relu = nn.ReLU()\n",
    "        \n",
    "    def forward(self, x):\n",
    "        # Contracting path\n",
    "        x1 = self.relu(self.conv1(x))  # (64, 255, 255)\n",
    "        x2 = self.relu(self.conv2(x1))  # (64, 253, 253)\n",
    "        x3, idcs1 = self.maxpool1(x2)  # (64, 126, 126)\n",
    "\n",
    "        x4 = self.relu(self.conv3(x3))  # (128, 124, 124)\n",
    "        x5 = self.relu(self.conv4(x4))# (128, 122, 122)\n",
    "        x6, idcs2 = self.maxpool2(x5)  # (128, 61, 61)\n",
    "\n",
    "        x7 = self.relu(self.conv5(x6))# (256, 59, 59)\n",
    "        x8 = self.relu(self.conv6(x7))# (256, 57, 57)\n",
    "        x9, idcs3 = self.maxpool3(x8)  # (256, 28, 28)\n",
    "\n",
    "        x10 = self.relu(self.conv7(x9)) # (512, 26, 26)\n",
    "        x11 = self.relu(self.conv8(x10)) # (512, 24, 24)\n",
    "        x12, idcs4 = self.maxpool4(x11)  # (512, 12, 12)\n",
    "\n",
    "        x13 = self.relu(self.conv9(x12)) # (1024, 10, 10)\n",
    "        x14 = self.relu(self.convt1(x13))  # Up-conv  (512, 12, 12)\n",
    "        # Expansive path\n",
    "        x15 = self.maxunpool1(x14, indices=idcs4)  # Upsample feature map  (512, 24, 24)\n",
    "        x15 = torch.cat((x11, x15), dim=0)  # Concatenate. Note, resulting variable has the same name (1024, 24, 24)\n",
    "\n",
    "        x16 = self.relu(self.convt2(x15))  # (512, 26, 26)\n",
    "        x17 = self.convt3(x16)  # (512, 28, 28)\n",
    "        x18 = self.maxunpool2(x17, indices=idcs3, output_size=x8.shape[-2:])  # (512, 57, 57)\n",
    "        x18 = torch.cat((x8, x18), dim=0)  # (512, 57, 57)\n",
    "\n",
    "        x19 = self.relu(self.convt4(x18))  # (256, 59, 59)\n",
    "        x20 = self.relu(self.convt5(x19))  # (128, 61, 61)\n",
    "        x21 = self.maxunpool3(x20, indices=idcs2)  # (128, 122, 122)\n",
    "        x21 = torch.cat((x5, x21), dim=0)  # (256, 122, 122)\n",
    "\n",
    "        x22 = self.convt6(x21)  # (128, 124, 124)\n",
    "        x23 = self.convt7(x22)  # (64, 126, 126)\n",
    "        x24 = self.maxunpool4(x23, indices=idcs1, output_size=x2.shape[-2:])  # (64, 253, 253)\n",
    "        x24 = torch.cat((x2, x24), dim=0)  # (128, 253, 253)\n",
    "\n",
    "        x25 = self.relu(self.convt8(x24))  # (64, 255, 255)\n",
    "        out = self.relu(self.convt9(x25))  # (1, 257, 257)\n",
    "        \n",
    "        return out\n",
    "\n",
    "convmodel = Unet()"
   ]
  },
  {
   "cell_type": "code",
   "execution_count": 19,
   "id": "27666845",
   "metadata": {},
   "outputs": [],
   "source": [
    "criterion = nn.CrossEntropyLoss()\n",
    "optimizer = optim.Adam(convmodel.parameters(), lr=0.01)"
   ]
  },
  {
   "cell_type": "code",
   "execution_count": 22,
   "id": "3ca45882",
   "metadata": {},
   "outputs": [],
   "source": [
    "def training(data_loader):\n",
    "    for data in data_loader:\n",
    "        feats, labs = data\n",
    "        out = convmodel(feats)\n",
    "        optimizer.zero_grad()\n",
    "        loss = criterion(out, labs)\n",
    "        print(f'Loss: {loss:.5f}')\n",
    "        print(out, out.size(), sep='\\n')\n",
    "        print()\n",
    "        loss.backward()\n",
    "        optimizer.step()\n",
    "    return loss, out"
   ]
  },
  {
   "cell_type": "code",
   "execution_count": 31,
   "id": "965e692d",
   "metadata": {
    "scrolled": true
   },
   "outputs": [
    {
     "name": "stdout",
     "output_type": "stream",
     "text": [
      "Loss: 0.21592\n",
      "tensor([[[0., 0., 0.,  ..., 0., 0., 0.],\n",
      "         [0., 0., 0.,  ..., 0., 0., 0.],\n",
      "         [0., 0., 0.,  ..., 0., 0., 0.],\n",
      "         ...,\n",
      "         [0., 0., 0.,  ..., 0., 0., 0.],\n",
      "         [0., 0., 0.,  ..., 0., 0., 0.],\n",
      "         [0., 0., 0.,  ..., 0., 0., 0.]]], grad_fn=<ReluBackward0>)\n",
      "torch.Size([1, 257, 257])\n",
      "\n",
      "Loss: 0.31308\n",
      "tensor([[[0., 0., 0.,  ..., 0., 0., 0.],\n",
      "         [0., 0., 0.,  ..., 0., 0., 0.],\n",
      "         [0., 0., 0.,  ..., 0., 0., 0.],\n",
      "         ...,\n",
      "         [0., 0., 0.,  ..., 0., 0., 0.],\n",
      "         [0., 0., 0.,  ..., 0., 0., 0.],\n",
      "         [0., 0., 0.,  ..., 0., 0., 0.]]], grad_fn=<ReluBackward0>)\n",
      "torch.Size([1, 257, 257])\n",
      "\n",
      "Loss: 0.21592\n",
      "tensor([[[0., 0., 0.,  ..., 0., 0., 0.],\n",
      "         [0., 0., 0.,  ..., 0., 0., 0.],\n",
      "         [0., 0., 0.,  ..., 0., 0., 0.],\n",
      "         ...,\n",
      "         [0., 0., 0.,  ..., 0., 0., 0.],\n",
      "         [0., 0., 0.,  ..., 0., 0., 0.],\n",
      "         [0., 0., 0.,  ..., 0., 0., 0.]]], grad_fn=<ReluBackward0>)\n",
      "torch.Size([1, 257, 257])\n",
      "\n",
      "Loss: 0.32388\n",
      "tensor([[[0., 0., 0.,  ..., 0., 0., 0.],\n",
      "         [0., 0., 0.,  ..., 0., 0., 0.],\n",
      "         [0., 0., 0.,  ..., 0., 0., 0.],\n",
      "         ...,\n",
      "         [0., 0., 0.,  ..., 0., 0., 0.],\n",
      "         [0., 0., 0.,  ..., 0., 0., 0.],\n",
      "         [0., 0., 0.,  ..., 0., 0., 0.]]], grad_fn=<ReluBackward0>)\n",
      "torch.Size([1, 257, 257])\n",
      "\n",
      "Loss: 0.20512\n",
      "tensor([[[0., 0., 0.,  ..., 0., 0., 0.],\n",
      "         [0., 0., 0.,  ..., 0., 0., 0.],\n",
      "         [0., 0., 0.,  ..., 0., 0., 0.],\n",
      "         ...,\n",
      "         [0., 0., 0.,  ..., 0., 0., 0.],\n",
      "         [0., 0., 0.,  ..., 0., 0., 0.],\n",
      "         [0., 0., 0.,  ..., 0., 0., 0.]]], grad_fn=<ReluBackward0>)\n",
      "torch.Size([1, 257, 257])\n",
      "\n"
     ]
    },
    {
     "ename": "KeyboardInterrupt",
     "evalue": "",
     "output_type": "error",
     "traceback": [
      "\u001b[0;31m---------------------------------------------------------------------------\u001b[0m",
      "\u001b[0;31mKeyboardInterrupt\u001b[0m                         Traceback (most recent call last)",
      "Input \u001b[0;32mIn [31]\u001b[0m, in \u001b[0;36m<cell line: 1>\u001b[0;34m()\u001b[0m\n\u001b[1;32m      9\u001b[0m \u001b[38;5;28mprint\u001b[39m(out, out\u001b[38;5;241m.\u001b[39msize(), sep\u001b[38;5;241m=\u001b[39m\u001b[38;5;124m'\u001b[39m\u001b[38;5;130;01m\\n\u001b[39;00m\u001b[38;5;124m'\u001b[39m)\n\u001b[1;32m     10\u001b[0m \u001b[38;5;28mprint\u001b[39m()\n\u001b[0;32m---> 11\u001b[0m \u001b[43mloss\u001b[49m\u001b[38;5;241;43m.\u001b[39;49m\u001b[43mbackward\u001b[49m\u001b[43m(\u001b[49m\u001b[43m)\u001b[49m\n",
      "File \u001b[0;32m~/comprns/lib/python3.8/site-packages/torch/_tensor.py:363\u001b[0m, in \u001b[0;36mTensor.backward\u001b[0;34m(self, gradient, retain_graph, create_graph, inputs)\u001b[0m\n\u001b[1;32m    354\u001b[0m \u001b[38;5;28;01mif\u001b[39;00m has_torch_function_unary(\u001b[38;5;28mself\u001b[39m):\n\u001b[1;32m    355\u001b[0m     \u001b[38;5;28;01mreturn\u001b[39;00m handle_torch_function(\n\u001b[1;32m    356\u001b[0m         Tensor\u001b[38;5;241m.\u001b[39mbackward,\n\u001b[1;32m    357\u001b[0m         (\u001b[38;5;28mself\u001b[39m,),\n\u001b[0;32m   (...)\u001b[0m\n\u001b[1;32m    361\u001b[0m         create_graph\u001b[38;5;241m=\u001b[39mcreate_graph,\n\u001b[1;32m    362\u001b[0m         inputs\u001b[38;5;241m=\u001b[39minputs)\n\u001b[0;32m--> 363\u001b[0m \u001b[43mtorch\u001b[49m\u001b[38;5;241;43m.\u001b[39;49m\u001b[43mautograd\u001b[49m\u001b[38;5;241;43m.\u001b[39;49m\u001b[43mbackward\u001b[49m\u001b[43m(\u001b[49m\u001b[38;5;28;43mself\u001b[39;49m\u001b[43m,\u001b[49m\u001b[43m \u001b[49m\u001b[43mgradient\u001b[49m\u001b[43m,\u001b[49m\u001b[43m \u001b[49m\u001b[43mretain_graph\u001b[49m\u001b[43m,\u001b[49m\u001b[43m \u001b[49m\u001b[43mcreate_graph\u001b[49m\u001b[43m,\u001b[49m\u001b[43m \u001b[49m\u001b[43minputs\u001b[49m\u001b[38;5;241;43m=\u001b[39;49m\u001b[43minputs\u001b[49m\u001b[43m)\u001b[49m\n",
      "File \u001b[0;32m~/comprns/lib/python3.8/site-packages/torch/autograd/__init__.py:173\u001b[0m, in \u001b[0;36mbackward\u001b[0;34m(tensors, grad_tensors, retain_graph, create_graph, grad_variables, inputs)\u001b[0m\n\u001b[1;32m    168\u001b[0m     retain_graph \u001b[38;5;241m=\u001b[39m create_graph\n\u001b[1;32m    170\u001b[0m \u001b[38;5;66;03m# The reason we repeat same the comment below is that\u001b[39;00m\n\u001b[1;32m    171\u001b[0m \u001b[38;5;66;03m# some Python versions print out the first line of a multi-line function\u001b[39;00m\n\u001b[1;32m    172\u001b[0m \u001b[38;5;66;03m# calls in the traceback and some print out the last line\u001b[39;00m\n\u001b[0;32m--> 173\u001b[0m \u001b[43mVariable\u001b[49m\u001b[38;5;241;43m.\u001b[39;49m\u001b[43m_execution_engine\u001b[49m\u001b[38;5;241;43m.\u001b[39;49m\u001b[43mrun_backward\u001b[49m\u001b[43m(\u001b[49m\u001b[43m  \u001b[49m\u001b[38;5;66;43;03m# Calls into the C++ engine to run the backward pass\u001b[39;49;00m\n\u001b[1;32m    174\u001b[0m \u001b[43m    \u001b[49m\u001b[43mtensors\u001b[49m\u001b[43m,\u001b[49m\u001b[43m \u001b[49m\u001b[43mgrad_tensors_\u001b[49m\u001b[43m,\u001b[49m\u001b[43m \u001b[49m\u001b[43mretain_graph\u001b[49m\u001b[43m,\u001b[49m\u001b[43m \u001b[49m\u001b[43mcreate_graph\u001b[49m\u001b[43m,\u001b[49m\u001b[43m \u001b[49m\u001b[43minputs\u001b[49m\u001b[43m,\u001b[49m\n\u001b[1;32m    175\u001b[0m \u001b[43m    \u001b[49m\u001b[43mallow_unreachable\u001b[49m\u001b[38;5;241;43m=\u001b[39;49m\u001b[38;5;28;43;01mTrue\u001b[39;49;00m\u001b[43m,\u001b[49m\u001b[43m \u001b[49m\u001b[43maccumulate_grad\u001b[49m\u001b[38;5;241;43m=\u001b[39;49m\u001b[38;5;28;43;01mTrue\u001b[39;49;00m\u001b[43m)\u001b[49m\n",
      "\u001b[0;31mKeyboardInterrupt\u001b[0m: "
     ]
    }
   ],
   "source": [
    "for epoch in range(1):\n",
    "    #training(train_loader)\n",
    "    for data in train_loader:\n",
    "        feats, labs = data\n",
    "        out = convmodel(feats)\n",
    "        optimizer.zero_grad()\n",
    "        loss = criterion(out, labs)\n",
    "        print(f'Loss: {loss:.5f}')\n",
    "        print(out, out.size(), sep='\\n')\n",
    "        print()\n",
    "        loss.backward()"
   ]
  },
  {
   "cell_type": "code",
   "execution_count": 37,
   "id": "c42eba94",
   "metadata": {},
   "outputs": [
    {
     "data": {
      "text/plain": [
       "<matplotlib.image.AxesImage at 0x7fb04a5818b0>"
      ]
     },
     "execution_count": 37,
     "metadata": {},
     "output_type": "execute_result"
    },
    {
     "data": {
      "image/png": "[encoded data removed]",
      "text/plain": [
       "<Figure size 432x288 with 1 Axes>"
      ]
     },
     "metadata": {
      "needs_background": "light"
     },
     "output_type": "display_data"
    }
   ],
   "source": [
    "plt.imshow(labs.squeeze())"
   ]
  },
  {
   "cell_type": "code",
   "execution_count": 38,
   "id": "81c90b64",
   "metadata": {},
   "outputs": [
    {
     "data": {
      "text/plain": [
       "<matplotlib.image.AxesImage at 0x7fb04a548fd0>"
      ]
     },
     "execution_count": 38,
     "metadata": {},
     "output_type": "execute_result"
    },
    {
     "data": {
      "image/png": "[encoded data removed]",
      "text/plain": [
       "<Figure size 432x288 with 1 Axes>"
      ]
     },
     "metadata": {
      "needs_background": "light"
     },
     "output_type": "display_data"
    }
   ],
   "source": [
    "plt.imshow(out.squeeze().detach().numpy())"
   ]
  },
  {
   "cell_type": "code",
   "execution_count": 39,
   "id": "39aaf5ba",
   "metadata": {},
   "outputs": [
    {
     "data": {
      "text/plain": [
       "tensor([    0.0000, 74506.3984], grad_fn=<Unique2Backward0>)"
      ]
     },
     "execution_count": 39,
     "metadata": {},
     "output_type": "execute_result"
    }
   ],
   "source": [
    "out.unique()"
   ]
  },
  {
   "cell_type": "markdown",
   "id": "115af778",
   "metadata": {},
   "source": [
    "### Visualization "
   ]
  },
  {
   "cell_type": "code",
   "execution_count": 27,
   "id": "88d210da",
   "metadata": {},
   "outputs": [
    {
     "data": {
      "text/plain": [
       "<matplotlib.image.AxesImage at 0x7fb011131790>"
      ]
     },
     "execution_count": 27,
     "metadata": {},
     "output_type": "execute_result"
    },
    {
     "data": {
      "image/png": "[encoded data removed]",
      "text/plain": [
       "<Figure size 432x288 with 1 Axes>"
      ]
     },
     "metadata": {
      "needs_background": "light"
     },
     "output_type": "display_data"
    }
   ],
   "source": [
    "plt.imshow(samples[225], origin='lower')"
   ]
  },
  {
   "cell_type": "code",
   "execution_count": 28,
   "id": "992a2477",
   "metadata": {},
   "outputs": [
    {
     "data": {
      "text/plain": [
       "<matplotlib.image.AxesImage at 0x7fb011118910>"
      ]
     },
     "execution_count": 28,
     "metadata": {},
     "output_type": "execute_result"
    },
    {
     "data": {
      "image/png": "[encoded data removed]",
      "text/plain": [
       "<Figure size 432x288 with 1 Axes>"
      ]
     },
     "metadata": {
      "needs_background": "light"
     },
     "output_type": "display_data"
    }
   ],
   "source": [
    "plt.imshow(masks[225], cmap='gray', origin='lower')"
   ]
  },
  {
   "cell_type": "code",
   "execution_count": 26,
   "id": "776b6bc1",
   "metadata": {},
   "outputs": [
    {
     "data": {
      "text/plain": [
       "tensor([0.0000, 0.5000, 1.0000])"
      ]
     },
     "execution_count": 26,
     "metadata": {},
     "output_type": "execute_result"
    }
   ],
   "source": [
    "masks[189].unique()"
   ]
  },
  {
   "cell_type": "code",
   "execution_count": null,
   "id": "966f7722",
   "metadata": {},
   "outputs": [],
   "source": []
  }
 ],
 "metadata": {
  "kernelspec": {
   "display_name": "Python 3 (ipykernel)",
   "language": "python",
   "name": "python3"
  },
  "language_info": {
   "codemirror_mode": {
    "name": "ipython",
    "version": 3
   },
   "file_extension": ".py",
   "mimetype": "text/x-python",
   "name": "python",
   "nbconvert_exporter": "python",
   "pygments_lexer": "ipython3",
   "version": "3.8.10"
  }
 },
 "nbformat": 4,
 "nbformat_minor": 5
}
