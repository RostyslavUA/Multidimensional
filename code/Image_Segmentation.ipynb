{
 "cells": [
  {
   "cell_type": "code",
   "execution_count": 1,
   "id": "4f24fa4a",
   "metadata": {},
   "outputs": [],
   "source": [
    "import os\n",
    "import os.path as osp\n",
    "import json\n",
    "import numpy as np\n",
    "\n",
    "import skimage.io\n",
    "import matplotlib.pyplot as plt\n",
    "\n",
    "from utils import transform_coordinates, transform_coordinates_back, adjust_coordinates, crop, crop_pill"
   ]
  },
  {
   "cell_type": "code",
   "execution_count": 2,
   "id": "7d2aa3d6",
   "metadata": {},
   "outputs": [],
   "source": [
    "path = '../public_data'"
   ]
  },
  {
   "cell_type": "code",
   "execution_count": 3,
   "id": "971ec3f0",
   "metadata": {},
   "outputs": [],
   "source": [
    "label_names = [file for file in os.listdir(path) if file.endswith('.json')]\n",
    "feature_names = [name.replace('.json', '.tiff') for name in label_names]"
   ]
  },
  {
   "cell_type": "code",
   "execution_count": 4,
   "id": "c7d9a2ad",
   "metadata": {},
   "outputs": [],
   "source": [
    "idx = 1\n",
    "img = skimage.io.imread(osp.join(path, feature_names[idx]))"
   ]
  },
  {
   "cell_type": "code",
   "execution_count": 5,
   "id": "68014708",
   "metadata": {
    "scrolled": false
   },
   "outputs": [],
   "source": [
    "idx=0\n",
    "_miss_px_all, _pres_px_all = [], []\n",
    "dics = []\n",
    "_predictions = {}\n",
    "predictions = {}\n",
    "_miss_all, _pres_all = [], []\n",
    "for idx, val in enumerate(feature_names):\n",
    "    if idx==100:\n",
    "        # Consider a limited number of samples\n",
    "        break\n",
    "    predictions['file'] = val\n",
    "    img = skimage.io.imread(osp.join(path, feature_names[idx]))\n",
    "    with open(osp.join(path, label_names[idx])) as f:\n",
    "        d = json.load(f)\n",
    "    img_cpd, M, was_vertical = crop(img)\n",
    "\n",
    "    # Obtain the labels and transform them\n",
    "    coorp = adjust_coordinates(d['coordinates']['present'])\n",
    "    coorm = adjust_coordinates(d['coordinates']['missing'])\n",
    "    coorp_t = transform_coordinates(coorp, M, was_vertical)  # _t stands for tansformed\n",
    "    coorm_t = transform_coordinates(coorm, M, was_vertical)\n",
    "\n",
    "    # Make a deep copy (changing a copy won't change the original img)\n",
    "    img_copy = img_cpd.copy()\n",
    "    # Set to a known pixel value, so that later we can identify whether the pill is missing or present  \n",
    "    img_copy[coorp_t] = 10 \n",
    "       \n",
    "    _coorm, _coorp, __miss_all, __pres_all = crop_pill(img_cpd, img_copy, save_for_histo=True, plot=False)\n",
    "    if __miss_all.all():\n",
    "        _miss_all.append(__miss_all)\n",
    "    if __pres_all.all():\n",
    "        _pres_all.append(__pres_all)\n",
    "    #true_coorp = transform_coordinates_back(coorp_t, M, was_vertical) \n",
    "\n",
    "    # Save predictions\n",
    "    _pred_coorm = transform_coordinates_back(list(zip(*_coorm)), M, was_vertical)\n",
    "    _pred_coorp = transform_coordinates_back(list(zip(*_coorp)), M, was_vertical)\n",
    "\n",
    "    if was_vertical and len(_pred_coorm):  # changed to not\n",
    "        _pred_coorm = _pred_coorm[::-1]\n",
    "    if was_vertical and len(_pred_coorp):\n",
    "        _pred_coorp = _pred_coorp[::-1]\n",
    "\n",
    "    pred_coorm = np.array(list(zip(*_pred_coorm)))\n",
    "    pred_coorp = np.array(list(zip(*_pred_coorp)))\n",
    "\n",
    "    # Transform to match the reference coordinates\n",
    "    if pred_coorm.size:\n",
    "        pred_coorm[:, 0] = 257 - pred_coorm[:, 0]\n",
    "        pred_coorm[:, [0, 1]] = pred_coorm[:, [1, 0]]\n",
    "        pred_coorm = pred_coorm.tolist()\n",
    "    else:\n",
    "        pred_coorm = pred_coorm.tolist()\n",
    "\n",
    "    if pred_coorp.size:\n",
    "        pred_coorp[:, 0] = 257 - pred_coorp[:, 0]\n",
    "        pred_coorp[:, [0, 1]] = pred_coorp[:, [1, 0]]\n",
    "        pred_coorp = pred_coorp.tolist()\n",
    "    else:\n",
    "        pred_coorp = pred_coorp.tolist()\n",
    "\n",
    "\n",
    "    _predictions['missing'] = pred_coorm\n",
    "    _predictions['present'] = pred_coorp\n",
    "\n",
    "\n",
    "    predictions['coordinates'] = _predictions.copy()\n",
    "    predictions['missing_pills'] = len(_coorm)\n",
    "    predictions['present_pills'] = len(_coorp)\n",
    "    dics.append(predictions.copy())"
   ]
  },
  {
   "cell_type": "code",
   "execution_count": 6,
   "id": "55c62c98",
   "metadata": {},
   "outputs": [],
   "source": [
    "miss_all = np.concatenate(_miss_all, axis=-1)\n",
    "pres_all = np.concatenate(_pres_all, axis=-1)"
   ]
  },
  {
   "cell_type": "code",
   "execution_count": 7,
   "id": "3c02bfd3",
   "metadata": {},
   "outputs": [
    {
     "data": {
      "image/png": "[encoded data removed]",
      "text/plain": [
       "<Figure size 432x288 with 1 Axes>"
      ]
     },
     "metadata": {
      "needs_background": "light"
     },
     "output_type": "display_data"
    }
   ],
   "source": [
    "# If we can find a nonlinear transformation that separates missing/present coodrinates quite well - we will definitelly \n",
    "# succeed. For now, the best one I found is to bring the normalized pixel values to the power of 3 and then take the mean \n",
    "# of the cropped pill (see below). Setting a threshold to around 0.5 gave us around 70 % of accuracy\n",
    "plt.hist(miss_all, np.arange(-2.5, 7.5, 0.5), label='Missing')\n",
    "plt.hist(pres_all, np.arange(-2.5, 7.5, 0.5), label='Present', alpha=0.5)\n",
    "plt.legend()\n",
    "plt.show()"
   ]
  },
  {
   "cell_type": "markdown",
   "id": "403fa54a",
   "metadata": {},
   "source": [
    "### Compare our predictions with the ground truth"
   ]
  },
  {
   "cell_type": "code",
   "execution_count": 8,
   "id": "62b87717",
   "metadata": {},
   "outputs": [
    {
     "data": {
      "text/plain": [
       "<matplotlib.legend.Legend at 0x7f41fdba75b0>"
      ]
     },
     "execution_count": 8,
     "metadata": {},
     "output_type": "execute_result"
    },
    {
     "data": {
      "image/png": "[encoded data removed]",
      "text/plain": [
       "<Figure size 432x288 with 1 Axes>"
      ]
     },
     "metadata": {
      "needs_background": "light"
     },
     "output_type": "display_data"
    }
   ],
   "source": [
    "# Ground truth\n",
    "plt.scatter(np.array(d['coordinates']['present'])[:, 0], np.array(d['coordinates']['present'])[:, 1], color='b',\n",
    "            label='Present')\n",
    "plt.scatter(np.array(d['coordinates']['missing'])[:, 0], np.array(d['coordinates']['missing'])[:, 1], color='r',\n",
    "            label='Missing')\n",
    "# Predicitons\n",
    "plt.scatter(np.array(pred_coorp)[:, 0], np.array(pred_coorp)[:, 1], marker='*', color='b', label='Predictions Present')\n",
    "plt.scatter(np.array(pred_coorm)[:, 0], np.array(pred_coorm)[:, 1], marker='*', color='r', label='Predictions Missing')\n",
    "plt.legend(bbox_to_anchor=(1, 1))"
   ]
  },
  {
   "cell_type": "code",
   "execution_count": null,
   "id": "e4d2a5ef",
   "metadata": {},
   "outputs": [],
   "source": []
  }
 ],
 "metadata": {
  "kernelspec": {
   "display_name": "Python 3 (ipykernel)",
   "language": "python",
   "name": "python3"
  },
  "language_info": {
   "codemirror_mode": {
    "name": "ipython",
    "version": 3
   },
   "file_extension": ".py",
   "mimetype": "text/x-python",
   "name": "python",
   "nbconvert_exporter": "python",
   "pygments_lexer": "ipython3",
   "version": "3.8.10"
  }
 },
 "nbformat": 4,
 "nbformat_minor": 5
}
